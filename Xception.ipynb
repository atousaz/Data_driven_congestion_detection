{
  "nbformat": 4,
  "nbformat_minor": 0,
  "metadata": {
    "colab": {
      "name": "Copy of Xception.ipynb",
      "provenance": [],
      "machine_shape": "hm",
      "include_colab_link": true
    },
    "kernelspec": {
      "name": "python3",
      "display_name": "Python 3"
    }
  },
  "cells": [
    {
      "cell_type": "markdown",
      "metadata": {
        "id": "view-in-github",
        "colab_type": "text"
      },
      "source": [
        "<a href=\"https://colab.research.google.com/github/atousaz/Data_driven_congestion_detection/blob/master/Xception.ipynb\" target=\"_parent\"><img src=\"https://colab.research.google.com/assets/colab-badge.svg\" alt=\"Open In Colab\"/></a>"
      ]
    },
    {
      "cell_type": "code",
      "metadata": {
        "id": "nvJGP3ykw3_z",
        "colab_type": "code",
        "outputId": "614af4c9-19e1-4caa-fe08-91994a538ae0",
        "colab": {
          "base_uri": "https://localhost:8080/",
          "height": 36
        }
      },
      "source": [
        "import cv2\n",
        "import os,sys\n",
        "from glob import glob\n",
        "import matplotlib.pyplot as plt\n",
        "import numpy as np\n",
        "from keras.preprocessing.image import img_to_array"
      ],
      "execution_count": 0,
      "outputs": [
        {
          "output_type": "stream",
          "text": [
            "Using TensorFlow backend.\n"
          ],
          "name": "stderr"
        }
      ]
    },
    {
      "cell_type": "code",
      "metadata": {
        "id": "x0SWo2C0xT6r",
        "colab_type": "code",
        "outputId": "c93ef7c9-d7dc-4851-e6bd-59236d3f8281",
        "colab": {
          "base_uri": "https://localhost:8080/",
          "height": 486
        }
      },
      "source": [
        "!wget -c \"https://www.dropbox.com/s/e7ns7rgyehr191x/SY_BEAN.zip\""
      ],
      "execution_count": 0,
      "outputs": [
        {
          "output_type": "stream",
          "text": [
            "--2019-10-07 01:48:40--  https://www.dropbox.com/s/e7ns7rgyehr191x/SY_BEAN.zip\n",
            "Resolving www.dropbox.com (www.dropbox.com)... 162.125.8.1, 2620:100:601b:1::a27d:801\n",
            "Connecting to www.dropbox.com (www.dropbox.com)|162.125.8.1|:443... connected.\n",
            "HTTP request sent, awaiting response... 301 Moved Permanently\n",
            "Location: /s/raw/e7ns7rgyehr191x/SY_BEAN.zip [following]\n",
            "--2019-10-07 01:48:41--  https://www.dropbox.com/s/raw/e7ns7rgyehr191x/SY_BEAN.zip\n",
            "Reusing existing connection to www.dropbox.com:443.\n",
            "HTTP request sent, awaiting response... 302 Found\n",
            "Location: https://uc714020c5a8c4b26f8fe9e3bb72.dl.dropboxusercontent.com/cd/0/inline/Ap8qa-NsLmiW1zQ8sztIPWXDgi9LYQmpI8kJwBAej0wYKXRZR5eZuIcEmJ4976CCopYiW5NQzkTRp8cvlmocLxqhVpyK2P2QnJXpwTojNMNuB5wBaUIkNhe_ps8a-RgTbt4/file# [following]\n",
            "--2019-10-07 01:48:41--  https://uc714020c5a8c4b26f8fe9e3bb72.dl.dropboxusercontent.com/cd/0/inline/Ap8qa-NsLmiW1zQ8sztIPWXDgi9LYQmpI8kJwBAej0wYKXRZR5eZuIcEmJ4976CCopYiW5NQzkTRp8cvlmocLxqhVpyK2P2QnJXpwTojNMNuB5wBaUIkNhe_ps8a-RgTbt4/file\n",
            "Resolving uc714020c5a8c4b26f8fe9e3bb72.dl.dropboxusercontent.com (uc714020c5a8c4b26f8fe9e3bb72.dl.dropboxusercontent.com)... 162.125.3.6, 2620:100:601b:6::a27d:806\n",
            "Connecting to uc714020c5a8c4b26f8fe9e3bb72.dl.dropboxusercontent.com (uc714020c5a8c4b26f8fe9e3bb72.dl.dropboxusercontent.com)|162.125.3.6|:443... connected.\n",
            "HTTP request sent, awaiting response... 302 FOUND\n",
            "Location: /cd/0/inline2/Ap8_ZOzEc55JrAaRD4jYAJfiTzBfs7t8Ct-sXoEZ6PRL4U91yHBw4fNebW-SXtYfDzV6k0m_nGfwvO7GqIIHcjMij1b4tixXpiLIILOYJr7_owDNZu_wJuo6R-fPJBDPHNSoCphThU-wY9dOhGhNPnan6WFQdE2HuJShu3RgDBN-uNm6_dc5vnn3o3voD2L1bHNYWySgptK7-79mJYQnhwZAZk38zJx9UwGneVwi6M5ej-JVUmvGaOBuqUBOHm0PQORm3WvkwcN_UqnrVAhQ4G9RrA-DXG1sChgZh95A0kJOdmA3OzZbp8sILOpCN8P6D93KMnyf6RvmPYHyy4LA5gBCVQf4Rehc8EiAvERTk05xbg/file [following]\n",
            "--2019-10-07 01:48:41--  https://uc714020c5a8c4b26f8fe9e3bb72.dl.dropboxusercontent.com/cd/0/inline2/Ap8_ZOzEc55JrAaRD4jYAJfiTzBfs7t8Ct-sXoEZ6PRL4U91yHBw4fNebW-SXtYfDzV6k0m_nGfwvO7GqIIHcjMij1b4tixXpiLIILOYJr7_owDNZu_wJuo6R-fPJBDPHNSoCphThU-wY9dOhGhNPnan6WFQdE2HuJShu3RgDBN-uNm6_dc5vnn3o3voD2L1bHNYWySgptK7-79mJYQnhwZAZk38zJx9UwGneVwi6M5ej-JVUmvGaOBuqUBOHm0PQORm3WvkwcN_UqnrVAhQ4G9RrA-DXG1sChgZh95A0kJOdmA3OzZbp8sILOpCN8P6D93KMnyf6RvmPYHyy4LA5gBCVQf4Rehc8EiAvERTk05xbg/file\n",
            "Reusing existing connection to uc714020c5a8c4b26f8fe9e3bb72.dl.dropboxusercontent.com:443.\n",
            "HTTP request sent, awaiting response... 200 OK\n",
            "Length: 176801901 (169M) [application/zip]\n",
            "Saving to: ‘SY_BEAN.zip’\n",
            "\n",
            "SY_BEAN.zip         100%[===================>] 168.61M  54.5MB/s    in 3.1s    \n",
            "\n",
            "2019-10-07 01:48:45 (54.5 MB/s) - ‘SY_BEAN.zip’ saved [176801901/176801901]\n",
            "\n"
          ],
          "name": "stdout"
        }
      ]
    },
    {
      "cell_type": "code",
      "metadata": {
        "id": "2t_jN4srxbKx",
        "colab_type": "code",
        "outputId": "6e8de317-56d2-4981-8e6a-7a27981bde06",
        "colab": {
          "base_uri": "https://localhost:8080/",
          "height": 1000
        }
      },
      "source": [
        "!unzip  SY_BEAN.zip"
      ],
      "execution_count": 0,
      "outputs": [
        {
          "output_type": "stream",
          "text": [
            "Archive:  SY_BEAN.zip\n",
            "   creating: SY_BEAN/\n",
            "   creating: SY_BEAN/Resistant/\n",
            "  inflating: SY_BEAN/Resistant/moderately resistant (1).jpg  \n",
            "  inflating: SY_BEAN/Resistant/moderately resistant (9).jpg  \n",
            "  inflating: SY_BEAN/Resistant/moderately resistant (10).jpg  \n",
            "  inflating: SY_BEAN/Resistant/moderately resistant (11).jpg  \n",
            "  inflating: SY_BEAN/Resistant/moderately resistant (12).jpg  \n",
            "  inflating: SY_BEAN/Resistant/moderately resistant (13).jpg  \n",
            "  inflating: SY_BEAN/Resistant/moderately resistant (14).jpg  \n",
            "  inflating: SY_BEAN/Resistant/moderately resistant (15).jpg  \n",
            "  inflating: SY_BEAN/Resistant/moderately resistant (16).jpg  \n",
            "  inflating: SY_BEAN/Resistant/moderately resistant (17).jpg  \n",
            "  inflating: SY_BEAN/Resistant/moderately resistant (18).jpg  \n",
            "  inflating: SY_BEAN/Resistant/moderately resistant (19).jpg  \n",
            "  inflating: SY_BEAN/Resistant/moderately resistant (20).jpg  \n",
            "  inflating: SY_BEAN/Resistant/moderately resistant (21).jpg  \n",
            "  inflating: SY_BEAN/Resistant/moderately resistant (22).jpg  \n",
            "  inflating: SY_BEAN/Resistant/moderately resistant (23).jpg  \n",
            "  inflating: SY_BEAN/Resistant/moderately resistant (24).jpg  \n",
            "  inflating: SY_BEAN/Resistant/moderately resistant (25).jpg  \n",
            "  inflating: SY_BEAN/Resistant/moderately resistant (26).jpg  \n",
            "  inflating: SY_BEAN/Resistant/moderately resistant (27).jpg  \n",
            "  inflating: SY_BEAN/Resistant/moderately resistant (28).jpg  \n",
            "  inflating: SY_BEAN/Resistant/moderately resistant (29).jpg  \n",
            "  inflating: SY_BEAN/Resistant/moderately resistant (30).jpg  \n",
            "  inflating: SY_BEAN/Resistant/moderately resistant (31).jpg  \n",
            "  inflating: SY_BEAN/Resistant/moderately resistant (32).jpg  \n",
            "  inflating: SY_BEAN/Resistant/moderately resistant (33).jpg  \n",
            "  inflating: SY_BEAN/Resistant/moderately resistant (34).jpg  \n",
            "  inflating: SY_BEAN/Resistant/moderately resistant (35).jpg  \n",
            "  inflating: SY_BEAN/Resistant/moderately resistant (36).jpg  \n",
            "  inflating: SY_BEAN/Resistant/moderately resistant (37).jpg  \n",
            "  inflating: SY_BEAN/Resistant/moderately resistant (38).jpg  \n",
            "  inflating: SY_BEAN/Resistant/moderately resistant (39).jpg  \n",
            "  inflating: SY_BEAN/Resistant/moderately resistant (40).jpg  \n",
            "  inflating: SY_BEAN/Resistant/moderately resistant (41).jpg  \n",
            "  inflating: SY_BEAN/Resistant/moderately resistant (42).jpg  \n",
            "  inflating: SY_BEAN/Resistant/moderately resistant (43).jpg  \n",
            "  inflating: SY_BEAN/Resistant/moderately resistant (44).jpg  \n",
            "  inflating: SY_BEAN/Resistant/moderately resistant (45).jpg  \n",
            "  inflating: SY_BEAN/Resistant/moderately resistant (46).jpg  \n",
            "  inflating: SY_BEAN/Resistant/moderately resistant (47).jpg  \n",
            "  inflating: SY_BEAN/Resistant/moderately resistant (48).jpg  \n",
            "  inflating: SY_BEAN/Resistant/moderately resistant (49).jpg  \n",
            "  inflating: SY_BEAN/Resistant/moderately resistant (50).jpg  \n",
            "  inflating: SY_BEAN/Resistant/moderately resistant (51).jpg  \n",
            "  inflating: SY_BEAN/Resistant/moderately resistant (52).jpg  \n",
            "  inflating: SY_BEAN/Resistant/moderately resistant (53).jpg  \n",
            "  inflating: SY_BEAN/Resistant/moderately resistant (54).jpg  \n",
            "  inflating: SY_BEAN/Resistant/moderately resistant (55).jpg  \n",
            "  inflating: SY_BEAN/Resistant/moderately resistant (56).jpg  \n",
            "  inflating: SY_BEAN/Resistant/moderately resistant (57).jpg  \n",
            "  inflating: SY_BEAN/Resistant/moderately resistant (58).jpg  \n",
            "  inflating: SY_BEAN/Resistant/moderately resistant (59).jpg  \n",
            "  inflating: SY_BEAN/Resistant/moderately resistant (60).jpg  \n",
            "  inflating: SY_BEAN/Resistant/moderately resistant (61).jpg  \n",
            "  inflating: SY_BEAN/Resistant/moderately resistant (62).jpg  \n",
            "  inflating: SY_BEAN/Resistant/moderately resistant (63).jpg  \n",
            "  inflating: SY_BEAN/Resistant/moderately resistant (64).jpg  \n",
            "  inflating: SY_BEAN/Resistant/moderately resistant (65).jpg  \n",
            "  inflating: SY_BEAN/Resistant/moderately resistant (66).jpg  \n",
            "  inflating: SY_BEAN/Resistant/resistant (1).jpg  \n",
            "  inflating: SY_BEAN/Resistant/resistant (10).jpg  \n",
            "  inflating: SY_BEAN/Resistant/resistant (11).jpg  \n",
            "  inflating: SY_BEAN/Resistant/resistant (12).jpg  \n",
            "  inflating: SY_BEAN/Resistant/resistant (13).jpg  \n",
            "  inflating: SY_BEAN/Resistant/resistant (14).jpg  \n",
            "  inflating: SY_BEAN/Resistant/resistant (15).jpg  \n",
            "  inflating: SY_BEAN/Resistant/resistant (16).jpg  \n",
            "  inflating: SY_BEAN/Resistant/resistant (17).jpg  \n",
            "  inflating: SY_BEAN/Resistant/resistant (18).jpg  \n",
            "  inflating: SY_BEAN/Resistant/resistant (2).jpg  \n",
            "  inflating: SY_BEAN/Resistant/resistant (3).jpg  \n",
            "  inflating: SY_BEAN/Resistant/resistant (4).jpg  \n",
            "  inflating: SY_BEAN/Resistant/resistant (5).jpg  \n",
            "  inflating: SY_BEAN/Resistant/resistant (6).jpg  \n",
            "  inflating: SY_BEAN/Resistant/resistant (7).jpg  \n",
            "  inflating: SY_BEAN/Resistant/resistant (8).jpg  \n",
            "  inflating: SY_BEAN/Resistant/resistant (9).jpg  \n",
            "   creating: SY_BEAN/Susceptible/\n",
            "  inflating: SY_BEAN/Susceptible/moderately susceptible (1).jpg  \n",
            "  inflating: SY_BEAN/Susceptible/moderately susceptible (10).jpg  \n",
            "  inflating: SY_BEAN/Susceptible/moderately susceptible (11).jpg  \n",
            "  inflating: SY_BEAN/Susceptible/moderately susceptible (12).jpg  \n",
            "  inflating: SY_BEAN/Susceptible/moderately susceptible (13).jpg  \n",
            "  inflating: SY_BEAN/Susceptible/moderately susceptible (14).jpg  \n",
            "  inflating: SY_BEAN/Susceptible/moderately susceptible (15).jpg  \n",
            "  inflating: SY_BEAN/Susceptible/moderately susceptible (16).jpg  \n",
            "  inflating: SY_BEAN/Susceptible/moderately susceptible (17).jpg  \n",
            "  inflating: SY_BEAN/Susceptible/moderately susceptible (18).jpg  \n",
            "  inflating: SY_BEAN/Susceptible/moderately susceptible (2).jpg  \n",
            "  inflating: SY_BEAN/Susceptible/moderately susceptible (3).jpg  \n",
            "  inflating: SY_BEAN/Susceptible/moderately susceptible (4).jpg  \n",
            "  inflating: SY_BEAN/Susceptible/moderately susceptible (5).jpg  \n",
            "  inflating: SY_BEAN/Susceptible/moderately susceptible (6).jpg  \n",
            "  inflating: SY_BEAN/Susceptible/moderately susceptible (7).jpg  \n",
            "  inflating: SY_BEAN/Susceptible/moderately susceptible (8).jpg  \n",
            "  inflating: SY_BEAN/Susceptible/moderately susceptible (9).jpg  \n",
            "  inflating: SY_BEAN/Susceptible/susceptible (1).jpg  \n",
            "  inflating: SY_BEAN/Susceptible/susceptible (10).jpg  \n",
            "  inflating: SY_BEAN/Susceptible/susceptible (11).jpg  \n",
            "  inflating: SY_BEAN/Susceptible/susceptible (12).jpg  \n",
            "  inflating: SY_BEAN/Susceptible/susceptible (13).jpg  \n",
            "  inflating: SY_BEAN/Susceptible/susceptible (14).jpg  \n",
            "  inflating: SY_BEAN/Susceptible/susceptible (15).jpg  \n",
            "  inflating: SY_BEAN/Susceptible/susceptible (16).jpg  \n",
            "  inflating: SY_BEAN/Susceptible/susceptible (17).jpg  \n",
            "  inflating: SY_BEAN/Susceptible/susceptible (18).jpg  \n",
            "  inflating: SY_BEAN/Susceptible/susceptible (19).jpg  \n",
            "  inflating: SY_BEAN/Susceptible/susceptible (2).jpg  \n",
            "  inflating: SY_BEAN/Susceptible/susceptible (20).jpg  \n",
            "  inflating: SY_BEAN/Susceptible/susceptible (21).jpg  \n",
            "  inflating: SY_BEAN/Susceptible/susceptible (22).jpg  \n",
            "  inflating: SY_BEAN/Susceptible/susceptible (23).jpg  \n",
            "  inflating: SY_BEAN/Susceptible/susceptible (24).jpg  \n",
            "  inflating: SY_BEAN/Susceptible/susceptible (25).jpg  \n",
            "  inflating: SY_BEAN/Susceptible/susceptible (26).jpg  \n",
            "  inflating: SY_BEAN/Susceptible/susceptible (27).jpg  \n",
            "  inflating: SY_BEAN/Susceptible/susceptible (28).jpg  \n",
            "  inflating: SY_BEAN/Susceptible/susceptible (29).jpg  \n",
            "  inflating: SY_BEAN/Susceptible/susceptible (3).jpg  \n",
            "  inflating: SY_BEAN/Susceptible/susceptible (30).jpg  \n",
            "  inflating: SY_BEAN/Susceptible/susceptible (31).jpg  \n",
            "  inflating: SY_BEAN/Susceptible/susceptible (32).jpg  \n",
            "  inflating: SY_BEAN/Susceptible/susceptible (33).jpg  \n",
            "  inflating: SY_BEAN/Susceptible/susceptible (34).jpg  \n",
            "  inflating: SY_BEAN/Susceptible/susceptible (35).jpg  \n",
            "  inflating: SY_BEAN/Susceptible/susceptible (36).jpg  \n",
            "  inflating: SY_BEAN/Susceptible/susceptible (37).jpg  \n",
            "  inflating: SY_BEAN/Susceptible/susceptible (38).jpg  \n",
            "  inflating: SY_BEAN/Susceptible/susceptible (39).jpg  \n",
            "  inflating: SY_BEAN/Susceptible/susceptible (4).jpg  \n",
            "  inflating: SY_BEAN/Susceptible/susceptible (40).jpg  \n",
            "  inflating: SY_BEAN/Susceptible/susceptible (41).jpg  \n",
            "  inflating: SY_BEAN/Susceptible/susceptible (42).jpg  \n",
            "  inflating: SY_BEAN/Susceptible/susceptible (43).jpg  \n",
            "  inflating: SY_BEAN/Susceptible/susceptible (44).jpg  \n",
            "  inflating: SY_BEAN/Susceptible/susceptible (45).jpg  \n",
            "  inflating: SY_BEAN/Susceptible/susceptible (46).jpg  \n",
            "  inflating: SY_BEAN/Susceptible/susceptible (47).jpg  \n",
            "  inflating: SY_BEAN/Susceptible/susceptible (48).jpg  \n",
            "  inflating: SY_BEAN/Susceptible/susceptible (49).jpg  \n",
            "  inflating: SY_BEAN/Susceptible/susceptible (5).jpg  \n",
            "  inflating: SY_BEAN/Susceptible/susceptible (50).jpg  \n",
            "  inflating: SY_BEAN/Susceptible/susceptible (51).jpg  \n",
            "  inflating: SY_BEAN/Susceptible/susceptible (52).jpg  \n",
            "  inflating: SY_BEAN/Susceptible/susceptible (53).jpg  \n",
            "  inflating: SY_BEAN/Susceptible/susceptible (54).jpg  \n",
            "  inflating: SY_BEAN/Susceptible/susceptible (55).jpg  \n",
            "  inflating: SY_BEAN/Susceptible/susceptible (56).jpg  \n",
            "  inflating: SY_BEAN/Susceptible/susceptible (57).jpg  \n",
            "  inflating: SY_BEAN/Susceptible/susceptible (58).jpg  \n",
            "  inflating: SY_BEAN/Susceptible/susceptible (59).jpg  \n",
            "  inflating: SY_BEAN/Susceptible/susceptible (6).jpg  \n",
            "  inflating: SY_BEAN/Susceptible/susceptible (7).jpg  \n",
            "  inflating: SY_BEAN/Susceptible/susceptible (8).jpg  \n",
            "  inflating: SY_BEAN/Susceptible/susceptible (9).jpg  \n"
          ],
          "name": "stdout"
        }
      ]
    },
    {
      "cell_type": "code",
      "metadata": {
        "id": "gQitMusFxhyY",
        "colab_type": "code",
        "colab": {}
      },
      "source": [
        "data = []\n",
        "labels = []\n",
        "nrow=299\n",
        "ncolumns=299\n",
        "channels=3\n",
        "DATADIR=\"SY_BEAN/\"\n",
        "CATEGORIES=[\"Resistant\",\"Susceptible\"]\n",
        "for caregory in CATEGORIES:\n",
        "    path=os.path.join(DATADIR,caregory)\n",
        "    for img in os.listdir(path):\n",
        "        #print(img)\n",
        "        img_=cv2.imread(os.path.join(path,img),cv2.IMREAD_COLOR)\n",
        "        img_=cv2.resize(img_, (299, 299))\n",
        "        img_= img_to_array(img_)\n",
        "        data.append(img_)\n",
        "        label =path.split(os.path.sep)[1]\n",
        "        label = 1 if label == \"Resistant\" else 0\n",
        "\n",
        "        labels.append(label)\n",
        "\n",
        "\n",
        "\n",
        "x=np.array(data)\n",
        "y=np.array(labels)"
      ],
      "execution_count": 0,
      "outputs": []
    },
    {
      "cell_type": "code",
      "metadata": {
        "id": "iErjde7NxXqx",
        "colab_type": "code",
        "colab": {}
      },
      "source": [
        "from sklearn.model_selection import train_test_split\n",
        "x_train,x_test,y_train,y_test=train_test_split(x,y,test_size=0.20,random_state=2)"
      ],
      "execution_count": 0,
      "outputs": []
    },
    {
      "cell_type": "code",
      "metadata": {
        "id": "axFV-Xibx1RY",
        "colab_type": "code",
        "colab": {}
      },
      "source": [
        "from keras.applications.xception import Xception\n",
        "from keras.preprocessing import image\n",
        "from keras.models import Model\n",
        "from keras.layers import Dense, GlobalAveragePooling2D\n",
        "from keras import backend as K\n"
      ],
      "execution_count": 0,
      "outputs": []
    },
    {
      "cell_type": "code",
      "metadata": {
        "id": "LK8j0eseyU8K",
        "colab_type": "code",
        "outputId": "ee9cea01-5761-418e-a4af-2407605fa3f3",
        "colab": {
          "base_uri": "https://localhost:8080/",
          "height": 729
        }
      },
      "source": [
        "import warnings\n",
        "warnings.filterwarnings('ignore')\n",
        "base_model_x =Xception(include_top=False, weights='imagenet',input_shape=(299,299,3))\n",
        "\n",
        "from keras import layers\n",
        "from keras import models\n",
        "from keras import optimizers\n",
        "from keras.preprocessing.image import ImageDataGenerator\n",
        "from keras.preprocessing.image import img_to_array, load_img\n",
        "model=models.Sequential()\n",
        "model.add(base_model_x)\n",
        "model.add(layers.Flatten())\n",
        "model.add(layers.Dense(512,activation='relu'))\n",
        "model.add(layers.Dense(1,activation='sigmoid'))\n",
        "model.summary()\n",
        "sgd = optimizers.SGD(lr=0.01, momentum=0.9)\n",
        "model.compile(loss='binary_crossentropy',optimizer='sgd',metrics=['acc'])"
      ],
      "execution_count": 0,
      "outputs": [
        {
          "output_type": "stream",
          "text": [
            "WARNING:tensorflow:From /usr/local/lib/python3.6/dist-packages/keras/backend/tensorflow_backend.py:66: The name tf.get_default_graph is deprecated. Please use tf.compat.v1.get_default_graph instead.\n",
            "\n",
            "WARNING:tensorflow:From /usr/local/lib/python3.6/dist-packages/keras/backend/tensorflow_backend.py:541: The name tf.placeholder is deprecated. Please use tf.compat.v1.placeholder instead.\n",
            "\n",
            "WARNING:tensorflow:From /usr/local/lib/python3.6/dist-packages/keras/backend/tensorflow_backend.py:4432: The name tf.random_uniform is deprecated. Please use tf.random.uniform instead.\n",
            "\n",
            "WARNING:tensorflow:From /usr/local/lib/python3.6/dist-packages/keras/backend/tensorflow_backend.py:190: The name tf.get_default_session is deprecated. Please use tf.compat.v1.get_default_session instead.\n",
            "\n",
            "WARNING:tensorflow:From /usr/local/lib/python3.6/dist-packages/keras/backend/tensorflow_backend.py:197: The name tf.ConfigProto is deprecated. Please use tf.compat.v1.ConfigProto instead.\n",
            "\n",
            "WARNING:tensorflow:From /usr/local/lib/python3.6/dist-packages/keras/backend/tensorflow_backend.py:2041: The name tf.nn.fused_batch_norm is deprecated. Please use tf.compat.v1.nn.fused_batch_norm instead.\n",
            "\n",
            "WARNING:tensorflow:From /usr/local/lib/python3.6/dist-packages/keras/backend/tensorflow_backend.py:4267: The name tf.nn.max_pool is deprecated. Please use tf.nn.max_pool2d instead.\n",
            "\n",
            "Downloading data from https://github.com/fchollet/deep-learning-models/releases/download/v0.4/xception_weights_tf_dim_ordering_tf_kernels_notop.h5\n",
            "83689472/83683744 [==============================] - 1s 0us/step\n",
            "Model: \"sequential_1\"\n",
            "_________________________________________________________________\n",
            "Layer (type)                 Output Shape              Param #   \n",
            "=================================================================\n",
            "xception (Model)             (None, 10, 10, 2048)      20861480  \n",
            "_________________________________________________________________\n",
            "flatten_1 (Flatten)          (None, 204800)            0         \n",
            "_________________________________________________________________\n",
            "dense_1 (Dense)              (None, 512)               104858112 \n",
            "_________________________________________________________________\n",
            "dense_2 (Dense)              (None, 1)                 513       \n",
            "=================================================================\n",
            "Total params: 125,720,105\n",
            "Trainable params: 125,665,577\n",
            "Non-trainable params: 54,528\n",
            "_________________________________________________________________\n",
            "WARNING:tensorflow:From /usr/local/lib/python3.6/dist-packages/keras/optimizers.py:793: The name tf.train.Optimizer is deprecated. Please use tf.compat.v1.train.Optimizer instead.\n",
            "\n",
            "WARNING:tensorflow:From /usr/local/lib/python3.6/dist-packages/tensorflow/python/ops/nn_impl.py:180: add_dispatch_support.<locals>.wrapper (from tensorflow.python.ops.array_ops) is deprecated and will be removed in a future version.\n",
            "Instructions for updating:\n",
            "Use tf.where in 2.0, which has the same broadcast rule as np.where\n"
          ],
          "name": "stdout"
        }
      ]
    },
    {
      "cell_type": "code",
      "metadata": {
        "id": "LUCxJU_Ix9LJ",
        "colab_type": "code",
        "outputId": "64ca87d4-0756-429c-ad43-b214b9609159",
        "colab": {
          "base_uri": "https://localhost:8080/",
          "height": 1000
        }
      },
      "source": [
        "ntrain=len(x_train)\n",
        "ntest=len(x_test)\n",
        "batch_size=32\n",
        "\n",
        "train_datagen=ImageDataGenerator(rescale = 1. / 255,\n",
        "                                 rotation_range=40,\n",
        "                                 width_shift_range=0.2,\n",
        "                                 height_shift_range=0.2,\n",
        "                                 shear_range=0.2,\n",
        "                                 zoom_range=0.2,\n",
        "                                 horizontal_flip=True)\n",
        "test_datagen = ImageDataGenerator(rescale = 1. / 255)\n",
        "train_generator=train_datagen.flow(x_train,y_train,batch_size=batch_size)\n",
        "test_generator=test_datagen.flow(x_test,y_test,batch_size=batch_size)\n",
        "\n",
        "history=model.fit_generator(train_generator,\n",
        "                            steps_per_epoch=ntrain//batch_size,\n",
        "                            epochs=50,\n",
        "                            validation_data=test_generator,\n",
        "                            validation_steps=ntest//batch_size)"
      ],
      "execution_count": 0,
      "outputs": [
        {
          "output_type": "stream",
          "text": [
            "Epoch 1/50\n",
            "3/3 [==============================] - 145s 48s/step - loss: 3.3425 - acc: 0.4503 - val_loss: 1.8143 - val_acc: 0.5484\n",
            "Epoch 2/50\n",
            "3/3 [==============================] - 130s 43s/step - loss: 1.0090 - acc: 0.5521 - val_loss: 0.6651 - val_acc: 0.5484\n",
            "Epoch 3/50\n",
            "3/3 [==============================] - 120s 40s/step - loss: 0.7038 - acc: 0.4815 - val_loss: 0.6584 - val_acc: 0.6452\n",
            "Epoch 4/50\n",
            "3/3 [==============================] - 131s 44s/step - loss: 0.6950 - acc: 0.5729 - val_loss: 0.6667 - val_acc: 0.6129\n",
            "Epoch 5/50\n",
            "3/3 [==============================] - 130s 43s/step - loss: 0.6587 - acc: 0.6250 - val_loss: 0.6626 - val_acc: 0.6452\n",
            "Epoch 6/50\n",
            "3/3 [==============================] - 121s 40s/step - loss: 0.6480 - acc: 0.6309 - val_loss: 0.6748 - val_acc: 0.6129\n",
            "Epoch 7/50\n",
            "3/3 [==============================] - 131s 44s/step - loss: 0.6149 - acc: 0.6458 - val_loss: 0.6680 - val_acc: 0.5484\n",
            "Epoch 8/50\n",
            "3/3 [==============================] - 125s 42s/step - loss: 0.6792 - acc: 0.6039 - val_loss: 0.7881 - val_acc: 0.4516\n",
            "Epoch 9/50\n",
            "3/3 [==============================] - 125s 42s/step - loss: 0.6769 - acc: 0.5679 - val_loss: 0.6621 - val_acc: 0.5161\n",
            "Epoch 10/50\n",
            "3/3 [==============================] - 129s 43s/step - loss: 0.5556 - acc: 0.7396 - val_loss: 0.6773 - val_acc: 0.6129\n",
            "Epoch 11/50\n",
            "3/3 [==============================] - 118s 39s/step - loss: 0.6911 - acc: 0.5759 - val_loss: 0.7408 - val_acc: 0.4839\n",
            "Epoch 12/50\n",
            "3/3 [==============================] - 129s 43s/step - loss: 0.5650 - acc: 0.6979 - val_loss: 0.7257 - val_acc: 0.5484\n",
            "Epoch 13/50\n",
            "3/3 [==============================] - 131s 44s/step - loss: 0.6816 - acc: 0.5417 - val_loss: 0.6310 - val_acc: 0.5484\n",
            "Epoch 14/50\n",
            "3/3 [==============================] - 126s 42s/step - loss: 0.5182 - acc: 0.7484 - val_loss: 0.6369 - val_acc: 0.4839\n",
            "Epoch 15/50\n",
            "3/3 [==============================] - 125s 42s/step - loss: 0.5330 - acc: 0.7662 - val_loss: 0.7094 - val_acc: 0.6452\n",
            "Epoch 16/50\n",
            "3/3 [==============================] - 126s 42s/step - loss: 0.5004 - acc: 0.8041 - val_loss: 0.7814 - val_acc: 0.6129\n",
            "Epoch 17/50\n",
            "3/3 [==============================] - 124s 41s/step - loss: 0.5587 - acc: 0.7244 - val_loss: 0.7311 - val_acc: 0.6129\n",
            "Epoch 18/50\n",
            "3/3 [==============================] - 125s 42s/step - loss: 0.5135 - acc: 0.7033 - val_loss: 0.6452 - val_acc: 0.6129\n",
            "Epoch 19/50\n",
            "3/3 [==============================] - 125s 42s/step - loss: 0.6585 - acc: 0.6476 - val_loss: 0.5424 - val_acc: 0.6774\n",
            "Epoch 20/50\n",
            "3/3 [==============================] - 129s 43s/step - loss: 0.4206 - acc: 0.8333 - val_loss: 0.5233 - val_acc: 0.7742\n",
            "Epoch 21/50\n",
            "3/3 [==============================] - 123s 41s/step - loss: 0.5133 - acc: 0.7364 - val_loss: 0.6576 - val_acc: 0.6452\n",
            "Epoch 22/50\n",
            "3/3 [==============================] - 129s 43s/step - loss: 0.6096 - acc: 0.6979 - val_loss: 0.5492 - val_acc: 0.7419\n",
            "Epoch 23/50\n",
            "3/3 [==============================] - 122s 41s/step - loss: 0.4207 - acc: 0.8329 - val_loss: 0.5479 - val_acc: 0.6774\n",
            "Epoch 24/50\n",
            "3/3 [==============================] - 125s 42s/step - loss: 0.3858 - acc: 0.8253 - val_loss: 0.5105 - val_acc: 0.6129\n",
            "Epoch 25/50\n",
            "3/3 [==============================] - 130s 43s/step - loss: 0.4898 - acc: 0.7604 - val_loss: 0.4621 - val_acc: 0.8387\n",
            "Epoch 26/50\n",
            "3/3 [==============================] - 125s 42s/step - loss: 0.3879 - acc: 0.8224 - val_loss: 0.6019 - val_acc: 0.6774\n",
            "Epoch 27/50\n",
            "3/3 [==============================] - 126s 42s/step - loss: 0.2775 - acc: 0.9035 - val_loss: 0.5988 - val_acc: 0.6774\n",
            "Epoch 28/50\n",
            "3/3 [==============================] - 125s 42s/step - loss: 0.4197 - acc: 0.8041 - val_loss: 0.4770 - val_acc: 0.7097\n",
            "Epoch 29/50\n",
            "3/3 [==============================] - 130s 43s/step - loss: 0.4593 - acc: 0.7812 - val_loss: 0.4915 - val_acc: 0.7097\n",
            "Epoch 30/50\n",
            "3/3 [==============================] - 126s 42s/step - loss: 0.3526 - acc: 0.8238 - val_loss: 0.4582 - val_acc: 0.7097\n",
            "Epoch 31/50\n",
            "3/3 [==============================] - 125s 42s/step - loss: 0.3704 - acc: 0.8075 - val_loss: 0.5823 - val_acc: 0.7097\n",
            "Epoch 32/50\n",
            "3/3 [==============================] - 125s 42s/step - loss: 0.4400 - acc: 0.7816 - val_loss: 0.4335 - val_acc: 0.8387\n",
            "Epoch 33/50\n",
            "3/3 [==============================] - 124s 41s/step - loss: 0.2515 - acc: 0.9006 - val_loss: 0.4335 - val_acc: 0.7419\n",
            "Epoch 34/50\n",
            "3/3 [==============================] - 127s 42s/step - loss: 0.2824 - acc: 0.9021 - val_loss: 0.4450 - val_acc: 0.7419\n",
            "Epoch 35/50\n",
            "3/3 [==============================] - 131s 44s/step - loss: 0.2506 - acc: 0.8958 - val_loss: 1.1196 - val_acc: 0.6452\n",
            "Epoch 36/50\n",
            "3/3 [==============================] - 125s 42s/step - loss: 0.3930 - acc: 0.8402 - val_loss: 0.4722 - val_acc: 0.8065\n",
            "Epoch 37/50\n",
            "3/3 [==============================] - 125s 42s/step - loss: 0.2666 - acc: 0.8569 - val_loss: 0.4545 - val_acc: 0.7419\n",
            "Epoch 38/50\n",
            "3/3 [==============================] - 125s 42s/step - loss: 0.2108 - acc: 0.9021 - val_loss: 0.4858 - val_acc: 0.7419\n",
            "Epoch 39/50\n",
            "3/3 [==============================] - 127s 42s/step - loss: 0.3058 - acc: 0.9006 - val_loss: 1.0325 - val_acc: 0.7097\n",
            "Epoch 40/50\n",
            "3/3 [==============================] - 130s 43s/step - loss: 0.3817 - acc: 0.8229 - val_loss: 0.4539 - val_acc: 0.7742\n",
            "Epoch 41/50\n",
            "3/3 [==============================] - 129s 43s/step - loss: 0.2076 - acc: 0.9062 - val_loss: 0.4117 - val_acc: 0.7742\n",
            "Epoch 42/50\n",
            "3/3 [==============================] - 124s 41s/step - loss: 0.1816 - acc: 0.9337 - val_loss: 0.5330 - val_acc: 0.7419\n",
            "Epoch 43/50\n",
            "3/3 [==============================] - 120s 40s/step - loss: 0.2643 - acc: 0.8734 - val_loss: 0.3650 - val_acc: 0.8065\n",
            "Epoch 44/50\n",
            "3/3 [==============================] - 129s 43s/step - loss: 0.1806 - acc: 0.9375 - val_loss: 0.3989 - val_acc: 0.8065\n",
            "Epoch 45/50\n",
            "3/3 [==============================] - 128s 43s/step - loss: 0.2194 - acc: 0.9271 - val_loss: 0.4467 - val_acc: 0.8065\n",
            "Epoch 46/50\n",
            "3/3 [==============================] - 119s 40s/step - loss: 0.2367 - acc: 0.8948 - val_loss: 0.5183 - val_acc: 0.8065\n",
            "Epoch 47/50\n",
            "3/3 [==============================] - 129s 43s/step - loss: 0.2744 - acc: 0.8646 - val_loss: 0.6112 - val_acc: 0.7742\n",
            "Epoch 48/50\n",
            "3/3 [==============================] - 125s 42s/step - loss: 0.3163 - acc: 0.8555 - val_loss: 0.5241 - val_acc: 0.7419\n",
            "Epoch 49/50\n",
            "3/3 [==============================] - 123s 41s/step - loss: 0.1992 - acc: 0.8915 - val_loss: 0.5288 - val_acc: 0.7419\n",
            "Epoch 50/50\n",
            "3/3 [==============================] - 124s 41s/step - loss: 0.1370 - acc: 0.9578 - val_loss: 0.5441 - val_acc: 0.7097\n"
          ],
          "name": "stdout"
        }
      ]
    },
    {
      "cell_type": "code",
      "metadata": {
        "id": "9sxZ5Xo2x5aB",
        "colab_type": "code",
        "outputId": "1fd982bb-52cc-4b18-e734-9b73581c1974",
        "colab": {
          "base_uri": "https://localhost:8080/",
          "height": 573
        }
      },
      "source": [
        "acc=history.history['acc']\n",
        "test_acc=history.history['val_acc']\n",
        "loss=history.history['loss']\n",
        "test_loss=history.history['val_loss']\n",
        "epochs=range(1,len(acc)+1)\n",
        "plt.plot(epochs,acc,'b',label='Training acc')\n",
        "plt.plot(epochs,test_acc,'r',label='test acc')\n",
        "plt.title('training and test acc')\n",
        "plt.grid()\n",
        "plt.ylabel(\"Accuracy\")\n",
        "plt.xlabel(\"epochs\")\n",
        "plt.legend()\n",
        "\n",
        "plt.figure()\n",
        "\n",
        "plt.plot(epochs,loss,'b',label='loss')\n",
        "plt.plot(epochs,test_loss,'r',label='test loss')\n",
        "plt.title('training and test loss')\n",
        "\n",
        "plt.grid()\n",
        "plt.ylabel(\"Loss\")\n",
        "plt.xlabel(\"epochs\")\n",
        "plt.legend()\n",
        "plt.show()"
      ],
      "execution_count": 0,
      "outputs": [
        {
          "output_type": "display_data",
          "data": {
            "image/png": "[encoded data removed]",
            "text/plain": [
              "<Figure size 432x288 with 1 Axes>"
            ]
          },
          "metadata": {
            "tags": []
          }
        },
        {
          "output_type": "display_data",
          "data": {
            "image/png": "[encoded data removed]",
            "text/plain": [
              "<Figure size 432x288 with 1 Axes>"
            ]
          },
          "metadata": {
            "tags": []
          }
        }
      ]
    }
  ]
}